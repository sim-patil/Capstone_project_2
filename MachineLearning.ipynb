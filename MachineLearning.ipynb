{
 "cells": [
  {
   "cell_type": "markdown",
   "metadata": {},
   "source": [
    "__Step 1__Model-based feature selection (SelectFromModel)\n",
    "\n",
    "        https://www.kaggle.com/residentmario/automated-feature-selection-with-sklearn\n",
    "\n",
    "\n",
    "\n",
    "   __Step 1.1__Estimating Regression Model and assessing overall model fit.\n",
    "\n",
    "    This stage includes:\n",
    "\n",
    "    -- Select method for specifying the Regression Model. This can be done using:\n",
    "\n",
    "        Stepwise Regression:--  \n",
    "        Forward Selection - Backward Elimination\n",
    "    \n",
    "        Instead of manually selecting the variables, we can automate this process by using forward or backward selection. \n",
    "        Forward selection starts with most significant predictor in the model and adds variable for each step. Backward \n",
    "        elimination starts with all predictors in the model and removes the least significant variable for each step. \n",
    "    \n",
    "__Step 2__Examine the statistical significance of the model by checking:\n",
    "\n",
    " -- Selecting criteria can be set to any statistical measure like R-square, t-stat etc.\n",
    "\n",
    " -- anova(analysis of variance) -(https://pythonfordatascience.org/anova-python/)\n",
    "\n",
    " -- F-Statistic -  An F test tests a model which may have multiple explanatory variables contributing to the variance explained \n",
    "     by the model.\n",
    "\n",
    " -- Coefficient of determination - R2 & Adjusted R2\n",
    "\n",
    " -- Residual Standard Error /Standard error of estimate (Se)\n",
    "    https://www.analyticsvidhya.com/blog/2017/06/a-comprehensive-guide-for-linear-ridge-and-lasso-regression/\n",
    "    \n",
    " -- Statistical significance of the estimated parameters using t-test\n",
    "\n",
    "__Step 3__Test the Regression Variable for meeting regression assumptions.\n",
    "\n",
    " -- Use residual plots to test the assumptions of: linearity, homoscedasticity, independence and normality.\n",
    "    https://www.analyticsvidhya.com/blog/2017/06/a-comprehensive-guide-for-linear-ridge-and-lasso-regression/\n",
    "\n",
    "__Step 4__Perform Enhanced Regression diagnostics \n",
    "\n",
    "- Run the omnibus test gvlma(fit) that performs a global validation of linear model assumptions \n",
    "\n",
    "__Step 5__Identify the Influential Observations"
   ]
  }
 ],
 "metadata": {
  "kernelspec": {
   "display_name": "Python 3",
   "language": "python",
   "name": "python3"
  },
  "language_info": {
   "codemirror_mode": {
    "name": "ipython",
    "version": 3
   },
   "file_extension": ".py",
   "mimetype": "text/x-python",
   "name": "python",
   "nbconvert_exporter": "python",
   "pygments_lexer": "ipython3",
   "version": "3.6.5"
  }
 },
 "nbformat": 4,
 "nbformat_minor": 2
}
