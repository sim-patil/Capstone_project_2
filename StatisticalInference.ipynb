{
 "cells": [
  {
   "cell_type": "markdown",
   "metadata": {},
   "source": [
    "#### What are the expected reletionships of independent variables with review score?\n",
    "1. order_items_qty (\"+\") - if consumer gets more than one item from the same seller, it should mean that he/she knows the quality of the good. Therefore, increase in item quantity should increase review score\n",
    "2. product_description_lenght (\"+\") - buyer having more information about buying product should have positive relationship with review score\n",
    "3. product_photos_qty (\"+\")\n",
    "4. delivery_accuracy (\"+\") - item coming on time or earlier that it was described should have positive relationship with review score\n",
    "5. order_products_value (\"unknown\") - more expensive perhaps means better quality or higher expectation; thus, it is hard to predict"
   ]
  }
 ],
 "metadata": {
  "kernelspec": {
   "display_name": "Python 3",
   "language": "python",
   "name": "python3"
  },
  "language_info": {
   "codemirror_mode": {
    "name": "ipython",
    "version": 3
   },
   "file_extension": ".py",
   "mimetype": "text/x-python",
   "name": "python",
   "nbconvert_exporter": "python",
   "pygments_lexer": "ipython3",
   "version": "3.6.5"
  }
 },
 "nbformat": 4,
 "nbformat_minor": 2
}
